{
  "nbformat": 4,
  "nbformat_minor": 0,
  "metadata": {
    "colab": {
      "provenance": [],
      "authorship_tag": "ABX9TyPE1/tD4zZ/0h2wFgY3/fOS",
      "include_colab_link": true
    },
    "kernelspec": {
      "name": "python3",
      "display_name": "Python 3"
    },
    "language_info": {
      "name": "python"
    }
  },
  "cells": [
    {
      "cell_type": "markdown",
      "metadata": {
        "id": "view-in-github",
        "colab_type": "text"
      },
      "source": [
        "<a href=\"https://colab.research.google.com/github/charan2909/ML_ICP1/blob/main/ML_ICP1.ipynb\" target=\"_parent\"><img src=\"https://colab.research.google.com/assets/colab-badge.svg\" alt=\"Open In Colab\"/></a>"
      ]
    },
    {
      "cell_type": "code",
      "execution_count": 2,
      "metadata": {
        "colab": {
          "base_uri": "https://localhost:8080/"
        },
        "id": "6nlaGbefbmaX",
        "outputId": "c5a7b952-8548-4780-bbcd-2537b661312f"
      },
      "outputs": [
        {
          "output_type": "stream",
          "name": "stdout",
          "text": [
            "Final Sorted ages:  [19, 19, 20, 22, 24, 24, 24, 25, 25, 26]\n",
            "Min value of ages:  19\n",
            "Max value of ages:  26\n",
            "List after update:  [19, 19, 19, 20, 22, 24, 24, 24, 25, 25, 26, 26]\n",
            "Median of ages:  24.0\n",
            "Average of ages:  22.75\n",
            "Range of ages:  7\n"
          ]
        }
      ],
      "source": [
        "#Question 1\n",
        "import statistics\n",
        "ages = [19, 22, 19, 24, 20, 25, 26, 24, 25, 24]\n",
        "ages.sort()\n",
        "print(\"Final Sorted ages: \", ages)\n",
        "print(\"Min value of ages: \", min(ages))\n",
        "print(\"Max value of ages: \", max(ages))\n",
        "ages.insert(0,min(ages))\n",
        "ages.append(max(ages))\n",
        "print(\"List after update: \", ages)\n",
        "print(\"Median of ages: \", statistics.median(ages))\n",
        "print(\"Average of ages: \", statistics.mean(ages))\n",
        "print(\"Range of ages: \", max(ages)-min(ages))"
      ]
    },
    {
      "cell_type": "code",
      "source": [
        "#Question 2\n",
        "dog= dict()\n",
        "#The update() method inserts the specified dictionary\n",
        "dog.update({\"name\":\"Chris\", \"color\":\"Green\", \"breed\":\"Husky\", \"legs\":4, \"age\":3})\n",
        "print(\"Added key-value pair to dog: \",dog)\n",
        "#used  dict() function which creates a empty dictionary\n",
        "student_dict = dict()\n",
        "keyList = [\"first_name\", \"last_name\", \"gender\",\"age\",\"marital status\",\"skills\",\"country\",\"city\",\"address\"]\n",
        "#added only keys to the dictionary with None value using update method\n",
        "student_dict.update({key: None for key in keyList})\n",
        "print(\"\\nStudent_Dictionary after adding keys: \",student_dict)\n",
        "#utilised len(dictionary) function to calculate the length\n",
        "print(\"Length of Student_Dictionary: \", len(student_dict))\n",
        "#updated student_dict with sample values\n",
        "student_dict.update({\"first_name\": \"Akhil\", \"last_name\": \"Reddy\", \"gender\": \"Male\", \"age\": \"24\",\n",
        "                     \"marital status\": \"Single\", \"skills\": [\"Python\",\"sql\"], \"country\": \"India\",\"city\": \"Jmd\",\n",
        "                     \"address\": \" Street\"})\n",
        "\n",
        "print(\"\\nStudent_dict \", student_dict)\n",
        "#accessing paritcular value of key in dict: dict[\"key\"]\n",
        "print(\"\\nAccessing Skills value in dictionary: \",student_dict[\"skills\"])\n",
        "#type(value) - function gives the datatype of provided values\n",
        "print(\"Data Type of Skills in Student Dict: \", type(student_dict[\"skills\"]))\n",
        "#The extend() adds all the elements of an iterable (list, tuple, string etc.) to the end of the list\n",
        "student_dict[\"skills\"].extend([\"Apex\", \"JavaScript\"])\n",
        "print(\"Updated Skills list after adding new values: \", student_dict[\"skills\"])\n",
        "# dict.keys() and values() gives the list of keys and values as a list respectively\n",
        "print(\"\\n\",student_dict.keys())\n",
        "print(student_dict.values())\n"
      ],
      "metadata": {
        "colab": {
          "base_uri": "https://localhost:8080/"
        },
        "id": "OpSx-YUab9uy",
        "outputId": "e7f0ddc3-c890-4eed-e94e-32f4c70055e4"
      },
      "execution_count": 3,
      "outputs": [
        {
          "output_type": "stream",
          "name": "stdout",
          "text": [
            "Added key-value pair to dog:  {'name': 'Chris', 'color': 'Green', 'breed': 'Husky', 'legs': 4, 'age': 3}\n",
            "\n",
            "Student_Dictionary after adding keys:  {'first_name': None, 'last_name': None, 'gender': None, 'age': None, 'marital status': None, 'skills': None, 'country': None, 'city': None, 'address': None}\n",
            "Length of Student_Dictionary:  9\n",
            "\n",
            "Student_dict  {'first_name': 'Akhil', 'last_name': 'Reddy', 'gender': 'Male', 'age': '24', 'marital status': 'Single', 'skills': ['Python', 'sql'], 'country': 'India', 'city': 'Jmd', 'address': ' Street'}\n",
            "\n",
            "Accessing Skills value in dictionary:  ['Python', 'sql']\n",
            "Data Type of Skills in Student Dict:  <class 'list'>\n",
            "Updated Skills list after adding new values:  ['Python', 'sql', 'Apex', 'JavaScript']\n",
            "\n",
            " dict_keys(['first_name', 'last_name', 'gender', 'age', 'marital status', 'skills', 'country', 'city', 'address'])\n",
            "dict_values(['Akhil', 'Reddy', 'Male', '24', 'Single', ['Python', 'sql', 'Apex', 'JavaScript'], 'India', 'Jmd', ' Street'])\n"
          ]
        }
      ]
    },
    {
      "cell_type": "code",
      "source": [
        "#Question 3\n",
        "#assigning the sisters\n",
        "sisters = (\"Harika\", \"sis\")\n",
        "print(\"Sisters: \", sisters,)\n",
        "#assigning the brothers\n",
        "brothers = (\"Kulai\",\"nvn\",\"pochi\",\"jana\")\n",
        "print(\"Brothers: \", brothers)\n",
        "#concatenate the brothers and sisters\n",
        "siblings = sisters+brothers\n",
        "print(\"siblings: \",siblings)\n",
        "#printing the no. of sibilings and find out the length\n",
        "print(\"Number of Siblings:\", len(siblings))\n",
        "family_members = siblings+(\"Saradha\",\"Mallikarjuna\")\n",
        "#get the final output of family_members\n",
        "print(\"family_members: \", family_members)"
      ],
      "metadata": {
        "colab": {
          "base_uri": "https://localhost:8080/"
        },
        "id": "nv9SGuzrcFIs",
        "outputId": "1537f924-f92a-46a0-fb15-9f864dc876c2"
      },
      "execution_count": 4,
      "outputs": [
        {
          "output_type": "stream",
          "name": "stdout",
          "text": [
            "Sisters:  ('Harika', 'sis')\n",
            "Brothers:  ('Kulai', 'nvn', 'pochi', 'jana')\n",
            "siblings:  ('Harika', 'sis', 'Kulai', 'nvn', 'pochi', 'jana')\n",
            "Number of Siblings: 6\n",
            "family_members:  ('Harika', 'sis', 'Kulai', 'nvn', 'pochi', 'jana', 'Saradha', 'Mallikarjuna')\n"
          ]
        }
      ]
    },
    {
      "cell_type": "code",
      "source": [
        "#Question 4\n",
        "it_companies = {'Facebook', 'Google', 'Microsoft', 'Apple', 'IBM', 'Oracle', 'Amazon'}\n",
        "print(\"Length of it_companies:\",len(it_companies))\n",
        "# adds Twitter elements into the set\n",
        "it_companies.add('Twitter')\n",
        "print(\"it_companies: \", it_companies)\n",
        "it_companies.update(['Tcs','Accenture','anilee','Wipro'])\n",
        "print(\"it_companies after update: \",it_companies)\n",
        "#remove() is used to  remove the element from the set\n",
        "it_companies.remove(\"anilee\")\n",
        "print(it_companies)\n",
        "#Difference between remove and discard\n",
        "print(\"\\nDifference between Remove() and Discard(): Discard() method is different from the remove() method, because the remove() method will throw an error if the specified item is not present in list, whereas the discard() method will not throw any error if item doesn't exist in list.\")\n",
        "A = {19, 22, 24, 20, 25, 26}\n",
        "B = {19, 22, 20, 25, 26, 24, 28, 27}\n",
        "#all set operation can be performed in set: union(), intersection()\n",
        "print(\"\\nUnion of A and B sets: \",A.union(B))\n",
        "print(\"Intersection of A and B sets: \",A.intersection(B))\n",
        "#issubset() returns true if it is subset of other else false\n",
        "print(\"A is Subset of B? \",A.issubset(B))\n",
        "#to check is A and B are disjoint sets ( no elements in common)\n",
        "print(\"A and B are disjoint sets? \",A.isdisjoint(B))\n",
        "print(\"(AUB) AND (BUA): \",(A.union(B)).intersection(B.union(A)))\n",
        "#checking symmetric differece .. return the extra elements of set A that are not in B\n",
        "print(\"Symmetric Difference of A with B: \",A.symmetric_difference(B))\n",
        "#clear() clear/ delete all elements from set\n",
        "A.clear()\n",
        "B.clear()\n",
        "print(\"After clear Set A values: \", A,\"\\tSet B values: \",B)\n",
        "age = [22, 19, 24, 25, 26, 24, 25, 24]\n",
        "print(\"\\nage list: \",age)\n",
        "age_set = set(age)\n",
        "print(\"set of ageslist: \", age_set)\n",
        "print(\"Length of age list: \", len(age), \"\\nLength of age set\",len(age_set))"
      ],
      "metadata": {
        "colab": {
          "base_uri": "https://localhost:8080/"
        },
        "id": "mhUdyQh3cQld",
        "outputId": "5458c9cd-5396-41be-8cf3-9e7d606ef2c2"
      },
      "execution_count": 5,
      "outputs": [
        {
          "output_type": "stream",
          "name": "stdout",
          "text": [
            "Length of it_companies: 7\n",
            "it_companies:  {'Google', 'Facebook', 'Oracle', 'IBM', 'Twitter', 'Amazon', 'Microsoft', 'Apple'}\n",
            "it_companies after update:  {'Google', 'Oracle', 'Wipro', 'Tcs', 'Microsoft', 'IBM', 'Accenture', 'anilee', 'Amazon', 'Apple', 'Facebook', 'Twitter'}\n",
            "{'Google', 'Oracle', 'Wipro', 'Tcs', 'Microsoft', 'IBM', 'Accenture', 'Amazon', 'Apple', 'Facebook', 'Twitter'}\n",
            "\n",
            "Difference between Remove() and Discard(): Discard() method is different from the remove() method, because the remove() method will throw an error if the specified item is not present in list, whereas the discard() method will not throw any error if item doesn't exist in list.\n",
            "\n",
            "Union of A and B sets:  {19, 20, 22, 24, 25, 26, 27, 28}\n",
            "Intersection of A and B sets:  {19, 20, 22, 24, 25, 26}\n",
            "A is Subset of B?  True\n",
            "A and B are disjoint sets?  False\n",
            "(AUB) AND (BUA):  {19, 20, 22, 24, 25, 26, 27, 28}\n",
            "Symmetric Difference of A with B:  {27, 28}\n",
            "After clear Set A values:  set() \tSet B values:  set()\n",
            "\n",
            "age list:  [22, 19, 24, 25, 26, 24, 25, 24]\n",
            "set of ageslist:  {19, 22, 24, 25, 26}\n",
            "Length of age list:  8 \n",
            "Length of age set 5\n"
          ]
        }
      ]
    },
    {
      "cell_type": "code",
      "source": [
        "#Question 5\n",
        "from math import pi\n",
        "radius_of_circle = 30\n",
        "_area_of_circle_ = pi * radius_of_circle **2\n",
        "print(\"Area of a circle = \",_area_of_circle_,\" meters square\")\n",
        "_circum_of_circle_ = 2 * pi * radius_of_circle\n",
        "print(\"Circumference of a circle = \",_circum_of_circle_, ' meters')\n",
        "\n",
        "_radius_of_circle_ = float(input(\"Enter radius of circle: \"))\n",
        "_area_of_circle_ = pi * _radius_of_circle_ **2\n",
        "print(\"Area of a circle = \",_area_of_circle_,\" meters square\")"
      ],
      "metadata": {
        "colab": {
          "base_uri": "https://localhost:8080/"
        },
        "id": "vUvoiciychJl",
        "outputId": "a178bb0f-3293-47fc-a5f4-8e0bb0e60ab8"
      },
      "execution_count": 6,
      "outputs": [
        {
          "output_type": "stream",
          "name": "stdout",
          "text": [
            "Area of a circle =  2827.4333882308138  meters square\n",
            "Circumference of a circle =  188.49555921538757  meters\n",
            "Enter radius of circle: 7\n",
            "Area of a circle =  153.93804002589985  meters square\n"
          ]
        }
      ]
    },
    {
      "cell_type": "code",
      "source": [
        "#Question 6\n",
        "print(\"I am a teacher and I love to inspire and teach people\")\n",
        "#split the string with using space\n",
        "set_words = set((\"I am a teacher and I love to inspire and teach people\".split(\" \")))\n",
        "print(\"Number of Unique words: \",len(set_words), set_words)"
      ],
      "metadata": {
        "colab": {
          "base_uri": "https://localhost:8080/"
        },
        "id": "Mly242-dczPp",
        "outputId": "df34b710-712e-44fa-a844-69146cf95db9"
      },
      "execution_count": 9,
      "outputs": [
        {
          "output_type": "stream",
          "name": "stdout",
          "text": [
            "I am a teacher and I love to inspire and teach people\n",
            "Number of Unique words:  10 {'love', 'inspire', 'people', 'teach', 'to', 'I', 'a', 'and', 'teacher', 'am'}\n"
          ]
        }
      ]
    },
    {
      "cell_type": "code",
      "source": [
        "#Question 7\n",
        "text = \"\\033[1m Name \\t  Age \\tCountry City\\n Asabench 250 \\tFinland Helsinki\\033[0m\"\n",
        "print(text)"
      ],
      "metadata": {
        "colab": {
          "base_uri": "https://localhost:8080/"
        },
        "id": "_ps2P-O-cvAn",
        "outputId": "3a78dd1d-1de1-4d19-894f-d46652617fd9"
      },
      "execution_count": 8,
      "outputs": [
        {
          "output_type": "stream",
          "name": "stdout",
          "text": [
            "\u001b[1m Name \t  Age \tCountry City\n",
            " Asabench 250 \tFinland Helsinki\u001b[0m\n"
          ]
        }
      ]
    },
    {
      "cell_type": "code",
      "source": [
        "#Question 8\n",
        "radius = 10\n",
        "area = 3.14 * radius ** 2\n",
        "# using 'f' we can format the data. %.0f will give data without any decimals, %.2f displays until 2 decimals\n",
        "print(\"The area of a circle with radius\",radius,\"is %.0f\" %area, \"meters square.\")"
      ],
      "metadata": {
        "id": "EzqADEYUc8T3"
      },
      "execution_count": null,
      "outputs": []
    },
    {
      "cell_type": "code",
      "source": [
        "# Question 9\n",
        "# 1lb = 0.453592kg\n",
        "# Ask the user to enter the no of students he want\n",
        "number_of_students = int(input(\"Enter number of students: \"))\n",
        "weight_of_students_lbs = list()  # to store weights in lbs\n",
        "weight_of_students_kgs = list()  # to store weights in kgs\n",
        "\n",
        "for each in range(number_of_students):\n",
        "    weight_lb = int(input(\"Enter weight of {} student in lbs: \".format(each + 1)))\n",
        "    weight_of_students_lbs.insert(each, weight_lb)\n",
        "    # converting lbs to kg and adding to seperate list\n",
        "    weight_kg = float(\"%.2f\" % (weight_lb * 0.453592))\n",
        "    weight_of_students_kgs.insert(each, weight_kg)\n",
        "\n",
        "print(\"weight of students in lbs: \", weight_of_students_lbs)\n",
        "print(\"weight of students in kgs: \", weight_of_students_kgs)\n"
      ],
      "metadata": {
        "colab": {
          "base_uri": "https://localhost:8080/"
        },
        "id": "oickaWyqdaUO",
        "outputId": "75cc1be9-3763-4590-b579-619b15cf1ff6"
      },
      "execution_count": 10,
      "outputs": [
        {
          "output_type": "stream",
          "name": "stdout",
          "text": [
            "Enter number of students: 6\n",
            "Enter weight of 1 student in lbs: 34\n",
            "Enter weight of 2 student in lbs: 44\n",
            "Enter weight of 3 student in lbs: 55\n",
            "Enter weight of 4 student in lbs: 66\n",
            "Enter weight of 5 student in lbs: 35\n",
            "Enter weight of 6 student in lbs: 67\n",
            "weight of students in lbs:  [34, 44, 55, 66, 35, 67]\n",
            "weight of students in kgs:  [15.42, 19.96, 24.95, 29.94, 15.88, 30.39]\n"
          ]
        }
      ]
    }
  ]
}